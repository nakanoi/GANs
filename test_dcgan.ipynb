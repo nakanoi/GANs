{
 "cells": [
  {
   "cell_type": "code",
   "execution_count": null,
   "metadata": {
    "id": "JNyEYpbAGeVh"
   },
   "outputs": [],
   "source": [
    "from google.colab import drive\n",
    "drive.mount('/content/drive')\n",
    "!pip install tensorflow_addons\n",
    "%cd '/content/drive/MyDrive/generative/GANs'"
   ]
  },
  {
   "cell_type": "code",
   "execution_count": null,
   "metadata": {
    "colab": {
     "background_save": true
    },
    "id": "QtRbaVm-GWft"
   },
   "outputs": [],
   "source": [
    "from models import DCGAN \n",
    "\n",
    "\n",
    "if __name__ == '__main__':\n",
    "    MODE =  'build'\n",
    "    BATCH_SIZE = 64\n",
    "    MAX_EPOCHS = 6000\n",
    "    SHOW_EVERY_N = 600\n",
    "\n",
    "    # Model\n",
    "    model = DCGAN(\n",
    "        data_name='mnist',\n",
    "        ID=0,\n",
    "        )\n",
    "    model.summary()\n",
    "    if MODE == 'load':\n",
    "        model.load_models()\n",
    "\n",
    "    # Load Data\n",
    "    (x_train, y_train), _ = model.loader.load_mnist()\n",
    "\n",
    "    # Train\n",
    "    model.train(\n",
    "        BATCH_SIZE,\n",
    "        MAX_EPOCHS,\n",
    "        SHOW_EVERY_N,\n",
    "        train_data=[x_train, y_train]\n",
    "        )"
   ]
  }
 ],
 "metadata": {
  "accelerator": "GPU",
  "colab": {
   "authorship_tag": "ABX9TyO1fwn4sLZ82NiLux0sa5F+",
   "collapsed_sections": [],
   "name": "test_dcgan.ipynb",
   "provenance": []
  },
  "kernelspec": {
   "display_name": "Python 3",
   "language": "python",
   "name": "python3"
  },
  "language_info": {
   "codemirror_mode": {
    "name": "ipython",
    "version": 3
   },
   "file_extension": ".py",
   "mimetype": "text/x-python",
   "name": "python",
   "nbconvert_exporter": "python",
   "pygments_lexer": "ipython3",
   "version": "3.8.5"
  }
 },
 "nbformat": 4,
 "nbformat_minor": 1
}
